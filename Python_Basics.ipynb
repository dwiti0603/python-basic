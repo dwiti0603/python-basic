{
  "nbformat": 4,
  "nbformat_minor": 0,
  "metadata": {
    "colab": {
      "provenance": []
    },
    "kernelspec": {
      "name": "python3",
      "display_name": "Python 3"
    },
    "language_info": {
      "name": "python"
    }
  },
  "cells": [
    {
      "cell_type": "markdown",
      "source": [
        "# **Python Basics (Assignment)**\n"
      ],
      "metadata": {
        "id": "bSvrOPdjF0LZ"
      }
    },
    {
      "cell_type": "markdown",
      "source": [
        "#Q1. What is Python, and why is it popular?\n",
        "#Ans1. Python is a powerful, easy-to-learn language used in everything from web apps to AI. Its simplicity and massive ecosystem are why it’s one of the most popular programming languages in the world."
      ],
      "metadata": {
        "id": "qidlgc6tF9aM"
      }
    },
    {
      "cell_type": "markdown",
      "source": [
        "#Q2. What is an interpreter in Python?\n",
        "#Ans2. A Python interpreter reads and runs your code line by line. It's what makes Python code \"come alive\" when you run .py files or type into a Python shell."
      ],
      "metadata": {
        "id": "G9h0j6S0GOtt"
      }
    },
    {
      "cell_type": "markdown",
      "source": [
        "#Q3. What are pre-defined keywords in Python?\n",
        "#Ans3. Pre-defined keywords in Python are reserved words that have special meaning in the language. You cannot use them as variable names, function names, or identifiers. These keywords define the structure and syntax of Python programs — like control flow (if, else), data types (True, None), and more.\n",
        "\n",
        "\n",
        "#Q4. Can keywords be used as variable names?\n",
        "#Ans4. No, we cannot use keywords as variables.\n",
        "\n",
        "#Q5. What is mutability in Python?\n",
        "#Ans5. Mutability in Python refers to whether an object’s value can be changed after it is created.\n",
        "\n",
        "#Q6. Why are lists mutable, but tuples are immutable?\n",
        "#Ans6. Lists are mutable because: They support dynamic operations like appending, slicing, or sorting. Python uses them for tasks requiring flexibility. Tuples are immutable because: They’re faster and more memory-efficient. They can be used as dictionary keys or elements of a set. Immutability makes them safer in multi-threaded or hash-based operations.\n",
        "\n",
        "#Q7. What is the difference between “==” and “is” operators in Python?\n",
        "#Ans7. '==' is use to compare values whereas 'is' is use to check if two variables refer to the same object.\n",
        "\n",
        "#Q8. What are logical operators in Python?\n",
        "#Ans8. Logical operators are used to combine or compare Boolean expressions (True or False) in Python.\n",
        "\n",
        "#Q9. What is type casting in Python?\n",
        "#Ans9. the process of changing the data type of a value/object.\n",
        "\n",
        "#Q10. What is the difference between implicit and explicit type casting?\n",
        "#Ans10. Implicit casting is automatic and safe. Explicit casting is manual and allows more flexibility, but you must ensure it's valid.\n",
        "\n",
        "#Q11. What is the purpose of conditional statements in Python?\n",
        "#Ans11. Conditional statements allow your Python program to make decisions and execute different code blocks depending on whether a condition is True or False.\n",
        "\n",
        "#Q12. How does the elif statement work?\n",
        "#Ans12. The elif statement (short for else if) is used to check multiple conditions after an initial if.\n",
        "\n",
        "#Q13. What is the difference between for and while loops ?\n",
        "#Ans13. 'for' is used when you know how many times to loop, whereas,'while' is used when you only know when to stop, not how many steps it takes.\n",
        "\n",
        "#Q14. Describe a scenario where a while loop is more suitable than a for loop.\n",
        "#Ans14. A while loop is more suitable when you don’t know ahead of time how many times the loop should run — for example, when you’re waiting for correct user input.\n",
        "\n"
      ],
      "metadata": {
        "id": "VQ5GT5ILNGwA"
      }
    },
    {
      "cell_type": "code",
      "source": [
        "#Q1. Write a Python program to print \"Hello, World!\"\n",
        "#Ans1.\n",
        "\n",
        "print(\"Hello World!\")"
      ],
      "metadata": {
        "colab": {
          "base_uri": "https://localhost:8080/"
        },
        "id": "OPfCz-ATGqpf",
        "outputId": "ef718174-b3fd-4e63-8fd3-948bf588a88d"
      },
      "execution_count": 21,
      "outputs": [
        {
          "output_type": "stream",
          "name": "stdout",
          "text": [
            "Hello World!\n"
          ]
        }
      ]
    },
    {
      "cell_type": "code",
      "source": [
        "#Q2. Write a Python program that displays your name and age.\n",
        "#Ans2.\n",
        "\n",
        "x = \"Dwiti\"\n",
        "y = 18\n",
        "print(\"Dwiti\")\n",
        "print(18)"
      ],
      "metadata": {
        "colab": {
          "base_uri": "https://localhost:8080/"
        },
        "id": "At6tVo2HJYMg",
        "outputId": "d3e62bab-3a8d-45e1-a61d-1f3d76ce872e"
      },
      "execution_count": 22,
      "outputs": [
        {
          "output_type": "stream",
          "name": "stdout",
          "text": [
            "Dwiti\n",
            "18\n"
          ]
        }
      ]
    },
    {
      "cell_type": "code",
      "source": [
        "#Q3. Write code to print all the pre-defined keywords in Python using the keyword library.\n",
        "#Ans3.\n",
        "\n",
        "help('keywords')"
      ],
      "metadata": {
        "colab": {
          "base_uri": "https://localhost:8080/"
        },
        "id": "vrzyxUfjJ1fK",
        "outputId": "7f6c8ec2-2bae-49ad-8113-4f2395b26f04"
      },
      "execution_count": 2,
      "outputs": [
        {
          "output_type": "stream",
          "name": "stdout",
          "text": [
            "\n",
            "Here is a list of the Python keywords.  Enter any keyword to get more help.\n",
            "\n",
            "False               class               from                or\n",
            "None                continue            global              pass\n",
            "True                def                 if                  raise\n",
            "and                 del                 import              return\n",
            "as                  elif                in                  try\n",
            "assert              else                is                  while\n",
            "async               except              lambda              with\n",
            "await               finally             nonlocal            yield\n",
            "break               for                 not                 \n",
            "\n"
          ]
        }
      ]
    },
    {
      "cell_type": "code",
      "source": [
        "#Q4. Write a program that checks if a given word is a Python keyword.\n",
        "#Ans4.\n",
        "\n",
        "word = \"elif\"\n",
        "if word:\n",
        "  print(\"it is a python keyword\")\n",
        "else:\n",
        "  print(\"it is not a python keyword\")"
      ],
      "metadata": {
        "colab": {
          "base_uri": "https://localhost:8080/"
        },
        "id": "dGzIYPKDKIv2",
        "outputId": "4440dde4-ee23-4833-a609-04bbb32e8241"
      },
      "execution_count": 17,
      "outputs": [
        {
          "output_type": "stream",
          "name": "stdout",
          "text": [
            "it is a python keyword\n"
          ]
        }
      ]
    },
    {
      "cell_type": "code",
      "source": [
        "#Q5.  Create a list and tuple in Python, and demonstrate how attempting to change an element works differently for each.\n",
        "#Ans5.\n",
        "#original list\n",
        "list_cont = [10, 30, 90]\n",
        "list_cont"
      ],
      "metadata": {
        "colab": {
          "base_uri": "https://localhost:8080/"
        },
        "id": "uYkf1MbXKIg4",
        "outputId": "29e336b6-774b-4680-d3a0-423642c2a252"
      },
      "execution_count": 22,
      "outputs": [
        {
          "output_type": "execute_result",
          "data": {
            "text/plain": [
              "[10, 30, 90]"
            ]
          },
          "metadata": {},
          "execution_count": 22
        }
      ]
    },
    {
      "cell_type": "code",
      "source": [
        "#modified list\n",
        "list_cont[2] = 40\n",
        "list_cont"
      ],
      "metadata": {
        "colab": {
          "base_uri": "https://localhost:8080/"
        },
        "id": "ALxX_NNS-g62",
        "outputId": "0ef87351-ce76-4624-ac0d-07419f88a28b"
      },
      "execution_count": 24,
      "outputs": [
        {
          "output_type": "execute_result",
          "data": {
            "text/plain": [
              "[10, 30, 40]"
            ]
          },
          "metadata": {},
          "execution_count": 24
        }
      ]
    },
    {
      "cell_type": "code",
      "source": [
        "#original tuple\n",
        "tuple_cont = (20, 40, 100, 30)\n",
        "tuple_cont"
      ],
      "metadata": {
        "colab": {
          "base_uri": "https://localhost:8080/"
        },
        "id": "dX32Zt2z--dv",
        "outputId": "a511d17a-434c-483f-a2f9-78413aa318db"
      },
      "execution_count": 25,
      "outputs": [
        {
          "output_type": "execute_result",
          "data": {
            "text/plain": [
              "(20, 40, 100, 30)"
            ]
          },
          "metadata": {},
          "execution_count": 25
        }
      ]
    },
    {
      "cell_type": "code",
      "source": [
        "#modified tuple\n",
        "tuple_cont[1] = 70\n",
        "tuple_cont"
      ],
      "metadata": {
        "colab": {
          "base_uri": "https://localhost:8080/",
          "height": 176
        },
        "id": "6U4DZcJ__bPG",
        "outputId": "f52b1c5d-76da-47cf-b9b5-487612b458ac"
      },
      "execution_count": 27,
      "outputs": [
        {
          "output_type": "error",
          "ename": "TypeError",
          "evalue": "'tuple' object does not support item assignment",
          "traceback": [
            "\u001b[0;31m---------------------------------------------------------------------------\u001b[0m",
            "\u001b[0;31mTypeError\u001b[0m                                 Traceback (most recent call last)",
            "\u001b[0;32m/tmp/ipython-input-3070494116.py\u001b[0m in \u001b[0;36m<cell line: 0>\u001b[0;34m()\u001b[0m\n\u001b[1;32m      1\u001b[0m \u001b[0;31m#modified tuple\u001b[0m\u001b[0;34m\u001b[0m\u001b[0;34m\u001b[0m\u001b[0m\n\u001b[0;32m----> 2\u001b[0;31m \u001b[0mtuple_cont\u001b[0m\u001b[0;34m[\u001b[0m\u001b[0;36m1\u001b[0m\u001b[0;34m]\u001b[0m \u001b[0;34m=\u001b[0m \u001b[0;36m70\u001b[0m\u001b[0;34m\u001b[0m\u001b[0;34m\u001b[0m\u001b[0m\n\u001b[0m\u001b[1;32m      3\u001b[0m \u001b[0mtuple_cont\u001b[0m\u001b[0;34m\u001b[0m\u001b[0;34m\u001b[0m\u001b[0m\n",
            "\u001b[0;31mTypeError\u001b[0m: 'tuple' object does not support item assignment"
          ]
        }
      ]
    },
    {
      "cell_type": "code",
      "source": [
        "#Q6. Write a function to demonstrate the behavior of mutable and immutable arguments.\n",
        "#Ans6.\n",
        "\n",
        "def modify_args(a_number, a_list):\n",
        "    print(\"\\nInside function (before modification):\")\n",
        "    print(f\"a_number = {a_number}\")\n",
        "    print(f\"a_list = {a_list}\")\n",
        "\n",
        "    # Try modifying both\n",
        "    a_number += 10        # This creates a new int (immutable)\n",
        "    a_list.append(99)     # This modifies the original list (mutable)\n",
        "\n",
        "    print(\"\\nInside function (after modification):\")\n",
        "    print(f\"a_number = {a_number}\")\n",
        "    print(f\"a_list = {a_list}\")\n",
        "\n",
        "# Test values\n",
        "num = 5\n",
        "lst = [1, 2, 3]\n",
        "\n",
        "print(\"Before function call:\")\n",
        "print(f\"num = {num}\")\n",
        "print(f\"lst = {lst}\")\n",
        "\n",
        "# Call the function\n",
        "modify_args(num, lst)\n",
        "\n",
        "print(\"\\nAfter function call:\")\n",
        "print(f\"num = {num}\")     # unchanged\n",
        "print(f\"lst = {lst}\")     # modified\n",
        "\n",
        "\n"
      ],
      "metadata": {
        "colab": {
          "base_uri": "https://localhost:8080/"
        },
        "id": "-L7MJrt2KIdX",
        "outputId": "9388ce45-d7c5-49b9-d5dc-9d69ba2970ff"
      },
      "execution_count": 30,
      "outputs": [
        {
          "output_type": "stream",
          "name": "stdout",
          "text": [
            "Before function call:\n",
            "num = 5\n",
            "lst = [1, 2, 3]\n",
            "\n",
            "Inside function (before modification):\n",
            "a_number = 5\n",
            "a_list = [1, 2, 3]\n",
            "\n",
            "Inside function (after modification):\n",
            "a_number = 15\n",
            "a_list = [1, 2, 3, 99]\n",
            "\n",
            "After function call:\n",
            "num = 5\n",
            "lst = [1, 2, 3, 99]\n"
          ]
        }
      ]
    },
    {
      "cell_type": "code",
      "source": [
        "#Q7. Write a program that performs basic arithmetic operations on two user-input numbers.\n",
        "#Ans7.\n",
        "\n",
        "a = 5\n",
        "b = 66\n",
        "a+b #addition"
      ],
      "metadata": {
        "colab": {
          "base_uri": "https://localhost:8080/"
        },
        "id": "X0KxZQhNKIZm",
        "outputId": "537ca87f-5669-4ea8-d49c-f7b92a8796cc"
      },
      "execution_count": 34,
      "outputs": [
        {
          "output_type": "execute_result",
          "data": {
            "text/plain": [
              "71"
            ]
          },
          "metadata": {},
          "execution_count": 34
        }
      ]
    },
    {
      "cell_type": "code",
      "source": [
        "a-b #subtract"
      ],
      "metadata": {
        "colab": {
          "base_uri": "https://localhost:8080/"
        },
        "id": "pw3MAZ7EBlKm",
        "outputId": "42432621-2d24-4e03-f232-fe791c79e853"
      },
      "execution_count": 35,
      "outputs": [
        {
          "output_type": "execute_result",
          "data": {
            "text/plain": [
              "-61"
            ]
          },
          "metadata": {},
          "execution_count": 35
        }
      ]
    },
    {
      "cell_type": "code",
      "source": [
        "a*b #multiply"
      ],
      "metadata": {
        "colab": {
          "base_uri": "https://localhost:8080/"
        },
        "id": "2gGpnquKBn-H",
        "outputId": "1e908383-c762-4f9d-de84-a55e8ee90d62"
      },
      "execution_count": 36,
      "outputs": [
        {
          "output_type": "execute_result",
          "data": {
            "text/plain": [
              "330"
            ]
          },
          "metadata": {},
          "execution_count": 36
        }
      ]
    },
    {
      "cell_type": "code",
      "source": [
        "a/b #divide"
      ],
      "metadata": {
        "colab": {
          "base_uri": "https://localhost:8080/"
        },
        "id": "PG9Npi2WBq7w",
        "outputId": "e73788a7-5cf5-407d-d950-164969ba9fed"
      },
      "execution_count": 37,
      "outputs": [
        {
          "output_type": "execute_result",
          "data": {
            "text/plain": [
              "0.07575757575757576"
            ]
          },
          "metadata": {},
          "execution_count": 37
        }
      ]
    },
    {
      "cell_type": "code",
      "source": [
        "a % b #remainder"
      ],
      "metadata": {
        "colab": {
          "base_uri": "https://localhost:8080/"
        },
        "id": "ZJwIHgVNBx_S",
        "outputId": "d69ff730-3607-4a7e-8c45-046620d10985"
      },
      "execution_count": 39,
      "outputs": [
        {
          "output_type": "execute_result",
          "data": {
            "text/plain": [
              "5"
            ]
          },
          "metadata": {},
          "execution_count": 39
        }
      ]
    },
    {
      "cell_type": "code",
      "source": [
        "#Q8. Write a program to demonstrate the use of logical operators.\n",
        "#Ans8.\n",
        "\n",
        "age = int(input(\"Enter your age: \"))\n",
        "has_ticket = input(\"Do you have a ticket? (yes/no): \")\n",
        "\n",
        "# Logical AND:\n",
        "if age >= 19 and has_ticket == \"yes\":\n",
        "    print(\"You are allowed to enter.\")\n",
        "else:\n",
        "    print(\"You cannot enter.\")\n",
        "\n",
        "# Logical OR:\n",
        "if age >= 19 or has_ticket == \"yes\":\n",
        "    print(\"You meet at least one condition.\")\n",
        "\n",
        "# Logical NOT:\n",
        "if not (has_ticket == \"yes\"):\n",
        "    print(\"You need a ticket to enter.\")"
      ],
      "metadata": {
        "colab": {
          "base_uri": "https://localhost:8080/"
        },
        "id": "z4bJovP6KIWo",
        "outputId": "7d6e62fc-09da-4994-ccd8-7e44e1e707d2"
      },
      "execution_count": 51,
      "outputs": [
        {
          "output_type": "stream",
          "name": "stdout",
          "text": [
            "Enter your age: 19\n",
            "Do you have a ticket? (yes/no): no\n",
            "You cannot enter.\n",
            "You meet at least one condition.\n",
            "You need a ticket to enter.\n"
          ]
        }
      ]
    },
    {
      "cell_type": "code",
      "source": [
        "#Q9. Write a Python program to convert user input from string to integer, float, and boolean types.\n",
        "#Ans9\n",
        "\n",
        "#string to integer\n",
        "a = \"2\"\n",
        "print(type(a))\n",
        "print(type(int(a)))"
      ],
      "metadata": {
        "colab": {
          "base_uri": "https://localhost:8080/"
        },
        "id": "dwvizTWrKIKp",
        "outputId": "81d00e63-16ab-4ecd-e312-b59768ab909f"
      },
      "execution_count": 1,
      "outputs": [
        {
          "output_type": "stream",
          "name": "stdout",
          "text": [
            "<class 'str'>\n",
            "<class 'int'>\n"
          ]
        }
      ]
    },
    {
      "cell_type": "code",
      "source": [
        "#string to float\n",
        "a = \"45.3\"\n",
        "type(a)\n",
        "b = float(a)\n",
        "type(b)"
      ],
      "metadata": {
        "colab": {
          "base_uri": "https://localhost:8080/"
        },
        "id": "KW6oMkkxKE4I",
        "outputId": "6a4ae2d8-d61a-425e-bdb5-c2e919fbd2ec"
      },
      "execution_count": 2,
      "outputs": [
        {
          "output_type": "execute_result",
          "data": {
            "text/plain": [
              "float"
            ]
          },
          "metadata": {},
          "execution_count": 2
        }
      ]
    },
    {
      "cell_type": "code",
      "source": [
        "#string to boolean\n",
        "str1 = \"True\"\n",
        "str2 = \"False\"\n",
        "str3 = \"\"\n",
        "bool1 = bool(str1)\n",
        "bool2 = bool(str2)\n",
        "bool3 = bool(str3)\n",
        "print(bool1)\n",
        "print(bool2)\n",
        "print(bool3)"
      ],
      "metadata": {
        "colab": {
          "base_uri": "https://localhost:8080/"
        },
        "id": "ux_UkDkGK7Br",
        "outputId": "7bf75f6a-1718-4ef7-8510-edf4c84711b0"
      },
      "execution_count": 1,
      "outputs": [
        {
          "output_type": "stream",
          "name": "stdout",
          "text": [
            "True\n",
            "True\n",
            "False\n"
          ]
        }
      ]
    },
    {
      "cell_type": "code",
      "source": [
        "#Q10. Write code to demonstrate type casting with list elements.\n",
        "#Ans10.\n",
        "\n",
        "def safe_int(x):\n",
        "    try:\n",
        "        return int(x)\n",
        "    except ValueError:\n",
        "        return x\n",
        "\n",
        "items = [\"10\", \"20\", \"abc\", \"30\"]\n",
        "converted = [safe_int(x) for x in items]\n",
        "print(converted)\n"
      ],
      "metadata": {
        "colab": {
          "base_uri": "https://localhost:8080/"
        },
        "id": "aNCbZ5NELBZV",
        "outputId": "38f2860e-1747-46f7-dfab-6be13d7ced77"
      },
      "execution_count": 15,
      "outputs": [
        {
          "output_type": "stream",
          "name": "stdout",
          "text": [
            "[10, 20, 'abc', 30]\n"
          ]
        }
      ]
    },
    {
      "cell_type": "code",
      "source": [
        "#Q11. Write a program that checks if a number is positive, negative, or zero.\n",
        "#Ans11.\n",
        "\n",
        "num = float(input(\"Enter a number: \"))\n",
        "if num >= 0:\n",
        "    if num == 0:\n",
        "        print(\"Zero\")\n",
        "    else:\n",
        "        print(\"Positive number\")\n",
        "else:\n",
        "    print(\"Negative number\")\n"
      ],
      "metadata": {
        "colab": {
          "base_uri": "https://localhost:8080/"
        },
        "id": "y4tSS4w3LBIB",
        "outputId": "baa66338-8481-41ac-e7dd-68e5de3b1bb8"
      },
      "execution_count": 18,
      "outputs": [
        {
          "output_type": "stream",
          "name": "stdout",
          "text": [
            "Enter a number: 20\n",
            "Positive number\n"
          ]
        }
      ]
    },
    {
      "cell_type": "code",
      "source": [
        "#Q12. Write a for loop to print numbers from 1 to 10.\n",
        "#Ans12.\n",
        "\n",
        "a = [1, 2, 3, 4, 5, 6, 7, 8, 9, 10]\n",
        "for i in a:\n",
        "  print(i)"
      ],
      "metadata": {
        "colab": {
          "base_uri": "https://localhost:8080/"
        },
        "id": "xG4__gHBLAuG",
        "outputId": "8c2224ff-cbc4-4463-a8be-018f6f818c74"
      },
      "execution_count": 3,
      "outputs": [
        {
          "output_type": "stream",
          "name": "stdout",
          "text": [
            "1\n",
            "2\n",
            "3\n",
            "4\n",
            "5\n",
            "6\n",
            "7\n",
            "8\n",
            "9\n",
            "10\n"
          ]
        }
      ]
    },
    {
      "cell_type": "code",
      "source": [
        "#Q13. Write a Python program to find the sum of all even numbers between 1 and 50.\n",
        "#Ans13.\n",
        "\n",
        "total = 0\n",
        "for i in range(1, 51):\n",
        "    if i % 2 == 0:\n",
        "        total += i\n",
        "\n",
        "print(f\"Sum of even numbers from 1 to 50 is: {total}\")\n"
      ],
      "metadata": {
        "colab": {
          "base_uri": "https://localhost:8080/"
        },
        "id": "2N-nDPHELAYJ",
        "outputId": "964c65db-85c7-4603-f223-a7302a03e544"
      },
      "execution_count": 4,
      "outputs": [
        {
          "output_type": "stream",
          "name": "stdout",
          "text": [
            "Sum of even numbers from 1 to 50 is: 650\n"
          ]
        }
      ]
    },
    {
      "cell_type": "code",
      "source": [
        "#Q14. Write a program to reverse a string using a while loop.\n",
        "#Ans14.\n",
        "\n",
        "name= str((input(\"Enter the name: \")))\n",
        "i = len(name) - 1\n",
        "\n",
        "while i >= 0:\n",
        "    print(name[i], end = '')\n",
        "    i = i - 1"
      ],
      "metadata": {
        "colab": {
          "base_uri": "https://localhost:8080/"
        },
        "id": "Y_2P9OkcLADW",
        "outputId": "1bc79364-2c09-4ace-f3a2-fa3b2a3e0633"
      },
      "execution_count": 8,
      "outputs": [
        {
          "output_type": "stream",
          "name": "stdout",
          "text": [
            "Enter the name: dwiti\n",
            "itiwd"
          ]
        }
      ]
    },
    {
      "cell_type": "code",
      "source": [
        "#Q15. Write a Python program to calculate the factorial of a number provided by the user using a while loop.\n",
        "#Ans15.\n",
        "\n",
        "num = int(input(\"Enter an integer: \"))\n",
        "if num < 0:\n",
        "    print(\"Factorial is not defined for negative numbers.\")\n",
        "else:\n",
        "    fact = 1\n",
        "    while num >= 1:\n",
        "        fact *= num\n",
        "        num -= 1\n",
        "    print(\"Factorial =\", fact)\n"
      ],
      "metadata": {
        "colab": {
          "base_uri": "https://localhost:8080/"
        },
        "id": "MVS58Y1YKH5r",
        "outputId": "9d44d489-9d12-4c1c-831a-fc4123698310"
      },
      "execution_count": 11,
      "outputs": [
        {
          "output_type": "stream",
          "name": "stdout",
          "text": [
            "Enter an integer: 15\n",
            "Factorial = 1307674368000\n"
          ]
        }
      ]
    }
  ]
}